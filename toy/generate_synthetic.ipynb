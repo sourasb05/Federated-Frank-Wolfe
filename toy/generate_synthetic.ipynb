{
 "cells": [
  {
   "cell_type": "code",
   "execution_count": 2,
   "metadata": {},
   "outputs": [
    {
     "data": {
      "text/plain": [
       "((10000, 1001),\n",
       "           0         1         2          3         4         5         6  \\\n",
       " 0  0.044544  0.057960  1.016817 -15.287347  0.051576  0.658018  0.272232   \n",
       " 1  1.641292  1.261642 -0.546018 -43.567205 -0.709208 -0.473392 -1.398834   \n",
       " 2 -0.783808 -0.834474  0.542011  -2.776265  0.306187 -1.615491  0.645385   \n",
       " 3 -0.650353 -0.048193  0.696936  17.821224  0.000072 -1.565248 -0.116649   \n",
       " 4  1.151914  2.081065 -0.141238 -17.361364  0.183228  1.118067  0.295703   \n",
       " \n",
       "           7         8         9  ...       991       992       993       994  \\\n",
       " 0  0.983979 -0.310153 -1.145488  ...  0.280149 -1.901198  0.270999 -0.899879   \n",
       " 1  0.564230 -0.018504  1.719840  ...  0.635510  0.742158 -0.088348  2.008953   \n",
       " 2  2.605228 -2.265074  1.071348  ...  0.164751  0.031008 -0.014171 -1.479498   \n",
       " 3 -0.133065 -1.606386 -0.915318  ... -0.058730 -0.108648 -1.038183  0.532816   \n",
       " 4 -0.087981 -1.602901 -1.379220  ...  1.528464  0.884157 -0.591117  0.017912   \n",
       " \n",
       "         995       996       997       998       999  target  \n",
       " 0  2.253962  0.228794  0.656532  1.601856 -0.495939       6  \n",
       " 1 -0.840007 -0.732755  1.832572  1.689154  1.385813       4  \n",
       " 2 -1.437851 -0.196216 -0.245645  0.011405 -0.247749       7  \n",
       " 3  1.013083  1.306638 -0.231917 -0.655332 -0.344055       1  \n",
       " 4  0.873966  0.592201  1.763889 -0.507831 -0.776869       6  \n",
       " \n",
       " [5 rows x 1001 columns])"
      ]
     },
     "execution_count": 2,
     "metadata": {},
     "output_type": "execute_result"
    }
   ],
   "source": [
    "from sklearn.datasets import make_classification\n",
    "import pandas as pd\n",
    "\n",
    "# Generate a synthetic dataset\n",
    "X, y = make_classification(n_samples=10000, n_features=1000, n_informative=75, n_redundant=25, \n",
    "                           n_classes=10, random_state=42)\n",
    "\n",
    "# Convert to DataFrame for easier handling and visualization\n",
    "df = pd.DataFrame(X)\n",
    "df['target'] = y\n",
    "\n",
    "# Show the shape of the dataset to confirm its structure and a snippet to visualize it\n",
    "df_shape = df.shape\n",
    "df_head = df.head()\n",
    "\n",
    "df_shape, df_head"
   ]
  }
 ],
 "metadata": {
  "kernelspec": {
   "display_name": "personalized_fl",
   "language": "python",
   "name": "python3"
  },
  "language_info": {
   "codemirror_mode": {
    "name": "ipython",
    "version": 3
   },
   "file_extension": ".py",
   "mimetype": "text/x-python",
   "name": "python",
   "nbconvert_exporter": "python",
   "pygments_lexer": "ipython3",
   "version": "3.11.3"
  }
 },
 "nbformat": 4,
 "nbformat_minor": 2
}
