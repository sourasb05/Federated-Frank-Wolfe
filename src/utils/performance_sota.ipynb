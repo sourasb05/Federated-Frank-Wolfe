{
 "cells": [
  {
   "cell_type": "code",
   "execution_count": 1,
   "metadata": {},
   "outputs": [],
   "source": [
    "import h5py\n",
    "import numpy as np\n",
    "import pandas as pd \n",
    "import os\n",
    "import numpy as np\n",
    "import re\n",
    "import csv\n",
    "import matplotlib.pyplot as plt\n",
    "from mpl_toolkits.axes_grid1.inset_locator import inset_axes\n"
   ]
  },
  {
   "cell_type": "code",
   "execution_count": 2,
   "metadata": {},
   "outputs": [],
   "source": [
    "def convert_csv_to_txt(input_file,output_file):\n",
    "   \n",
    "    with open(input_file, 'r') as csv_file, open(output_file, 'w') as space_delimited_file:\n",
    "        csv_reader = csv.reader(csv_file)\n",
    "        for row in csv_reader:\n",
    "            space_delimited_file.write(' '.join(row) + '\\n')\n",
    "\n",
    "    print(f'CSV file \"{input_file}\" converted to space-delimited file \"{output_file}\"')\n"
   ]
  },
  {
   "cell_type": "code",
   "execution_count": 3,
   "metadata": {},
   "outputs": [],
   "source": [
    "def read_file(file):\n",
    "    hf = h5py.File(file, 'r')\n",
    "    attributes = []\n",
    "    for key in hf.keys():\n",
    "        attributes.append(key)\n",
    "    \n",
    "    return attributes, hf"
   ]
  },
  {
   "cell_type": "code",
   "execution_count": 4,
   "metadata": {},
   "outputs": [],
   "source": [
    "def get_data(hf,attributes):\n",
    "    data = []\n",
    "    pm = []\n",
    "    acc_pm = []\n",
    "    loss_pm = []\n",
    "    loss_gm = []\n",
    "    for i in range(len(attributes)):\n",
    "        ai = hf.get(attributes[i])\n",
    "        ai = np.array(ai)\n",
    "        data.append(ai)\n",
    "    \n",
    "    return data\n"
   ]
  },
  {
   "cell_type": "code",
   "execution_count": 5,
   "metadata": {},
   "outputs": [],
   "source": [
    "def plot_convergence(df_loss, df_accuracy, df_gap, path, model, eta_0_value):\n",
    "  \n",
    "    fig, axs = plt.subplots(1, 3, figsize=(15, 5)) # 3 Rows, 1 Column\n",
    "    handles, labels = [], []\n",
    "    # Plotting for each DataFrame\n",
    "    # print(df_loss.head(5))\n",
    "    # print(df_accuracy.head(5))\n",
    "    # print(df_gap.head(5))\n",
    "    for ax, df in zip(axs, [df_loss, df_accuracy, df_gap]):\n",
    "        #print(f\"ax: {ax}\")\n",
    "        # print(f\"df.columns: {df.columns}\")\n",
    "        for col in df.columns:\n",
    "            print(f\"col : {col}\")\n",
    "            ax.plot(df.index, df[col], label=col)\n",
    "            line, = ax.plot(df.index, df[col], label=col)\n",
    "            handles.append(line)\n",
    "            labels.append(col)\n",
    "\n",
    "        # ax.legend()\n",
    "        ax.set_xticks(range(0, 1001, 200)) # Setting x-axis ticks as specified\n",
    "        ax.grid(True)\n",
    " \n",
    "    unique_handles, unique_labels = [], []\n",
    "    for handle, label in zip(handles, labels):\n",
    "        if label not in unique_labels:\n",
    "            unique_handles.append(handle)\n",
    "            unique_labels.append(label)\n",
    "\n",
    "\n",
    "    indexes = ['Validation Loss', 'Validation Accuracy', 'Frank-Wolfe Gap']\n",
    "    \n",
    "    fontsize=16\n",
    "    for i, ax in enumerate(axs):\n",
    "        ax.set_ylabel(indexes[i], fontsize=fontsize)\n",
    "        ax.set_xlabel('Global Iteration', fontsize=fontsize)\n",
    "    \n",
    "    plt.tight_layout(rect=[0, 0, 1, 0.95]) \n",
    "    fig.subplots_adjust(top=0.85) \n",
    "    legend_fontsize = 16  # Specify font size here\n",
    "    fig.legend(unique_handles, unique_labels, loc='upper center', ncol=4, title=\"\", fontsize=legend_fontsize, title_fontsize=legend_fontsize)\n",
    "    \n",
    "    plt.draw()\n",
    "    plt.savefig(path +'sota.png', bbox_inches='tight', dpi=300)\n",
    "\n",
    "    plt.show()\n"
   ]
  },
  {
   "cell_type": "code",
   "execution_count": 6,
   "metadata": {},
   "outputs": [],
   "source": [
    "def convergence_analysis(path):\n",
    "    dir_list = os.listdir(path)\n",
    "    \n",
    "    df_loss = pd.DataFrame()\n",
    "    df_accuracy = pd.DataFrame()\n",
    "    df_gap = pd.DataFrame()\n",
    "    \n",
    "    for file_name in dir_list:\n",
    "        \"\"\"if file_name in ['LMO_lmo_l1_lamdba_0_0.1_eta_0_0.1_kappa_10.0_labels_10_global_iters_1000_11_03_2024.h5', \n",
    "                        'LMO_lmo_l1_lamdba_0_0.01_eta_0_0.1_kappa_10.0_labels_10_global_iters_1000_11_03_2024.h5', \n",
    "                        'LMO_lmo_l1_lamdba_0_0.001_eta_0_0.1_kappa_10.0_labels_10_global_iters_1000_11_03_2024.h5', \n",
    "                        'LMO_lmo_l1_lamdba_0_0.1_eta_0_0.01_kappa_10.0_labels_10_global_iters_1000_11_03_2024.h5',\n",
    "                        'LMO_lmo_l1_lamdba_0_0.01_eta_0_0.01_kappa_10.0_labels_10_global_iters_1000_11_03_2024.h5',\n",
    "                        'LMO_lmo_l1_lamdba_0_0.001_eta_0_0.01_kappa_10.0_labels_10_global_iters_1000_11_03_2024.h5',\n",
    "                        'LMO_lmo_l1_lamdba_0_0.1_eta_0_0.001_kappa_10.0_labels_10_global_iters_1000_11_03_2024.h5',\n",
    "                        'LMO_lmo_l1_lamdba_0_0.01_eta_0_0.001_kappa_10.0_labels_10_global_iters_1000_11_03_2024.h5',\n",
    "                        'LMO_lmo_l1_lamdba_0_0.001_eta_0_0.001_kappa_10.0_labels_10_global_iters_1000_11_03_2024.h5']:\n",
    "        \"\"\"    # print(file_name)\n",
    "        if file_name.endswith(\".h5\"):\n",
    "\n",
    "            # column_name = file_name.split('_kappa')[0]\n",
    "            column_name = file_name\n",
    "            # column_name = column_name[:]\n",
    "            # column_name = column_name.replace(\"_\", \" \").replace(\" 0\", \" 0\").replace(\"eta \", \"eta_\")\n",
    "\n",
    "            \n",
    "            # if eta_0_value in column_name:\n",
    "                # print(f\"column name : {column_name}\")\n",
    "            attributes, hf = read_file(path+file_name)\n",
    "\n",
    "            data = get_data(hf,attributes)\n",
    "            #id=0\n",
    "            for key in hf.keys():\n",
    "                attributes.append(key)\n",
    "            # print(\"id [\",id,\"] :\", key)\n",
    "            #id+=1\n",
    "                    \n",
    "            # val_loss = np.array(hf.get('global_test_loss'))\n",
    "            #print(f\"val_loss : {val_loss}\")\n",
    "            val_acc = np.array(hf.get('global_test_accuracy'))\n",
    "            #print(val_acc)\n",
    "            #print(f\"val_acc : {val_acc}\")\n",
    "            # gap = np.array(hf.get('fw_gap'))\n",
    "                    \n",
    "            # df_loss[column_name] = val_loss\n",
    "            df_accuracy[column_name] = val_acc\n",
    "    max_acc = df_accuracy.max().max()\n",
    "    max_column = df_accuracy.max().idxmax()\n",
    "\n",
    "    print(f\"max_acc : {max_acc} from column {max_column}\")\n",
    "                # df_gap[column_name] = gap\n",
    "    \n",
    "    \n",
    "    #plot_convergence(df_loss, df_accuracy, df_gap, path, model_name, eta_0_value)"
   ]
  },
  {
   "cell_type": "code",
   "execution_count": 46,
   "metadata": {},
   "outputs": [
    {
     "name": "stdout",
     "output_type": "stream",
     "text": [
      "max_acc : 0.3458869500774776 from column 0_dataset_CIFAR10_fl_algorithm_FedDR_model_MCLR_eta_0.01_kappa_10.0_global_iters_300_22_03_2024.h5\n"
     ]
    }
   ],
   "source": [
    "path = \"/proj/sourasb-220503/codebase/FedFWplus/results/FedDR/CIFAR10/MCLR/perf/new/norm_1/10/\"\n",
    "model_name = \"fedfw_synthetic_DNN_lmo_l2_10\"\n",
    "# eta_0_values = ['eta_0 0.1', 'eta_0 0.01', 'eta_0 0.001', 'eta_0 0.0001']\n",
    "#for eta_0_value in eta_0_values:\n",
    "convergence_analysis(path)"
   ]
  }
 ],
 "metadata": {
  "kernelspec": {
   "display_name": "personalized_fl",
   "language": "python",
   "name": "python3"
  },
  "language_info": {
   "codemirror_mode": {
    "name": "ipython",
    "version": 3
   },
   "file_extension": ".py",
   "mimetype": "text/x-python",
   "name": "python",
   "nbconvert_exporter": "python",
   "pygments_lexer": "ipython3",
   "version": "3.11.3"
  }
 },
 "nbformat": 4,
 "nbformat_minor": 2
}
